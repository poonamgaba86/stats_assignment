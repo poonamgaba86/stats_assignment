{
 "cells": [
  {
   "cell_type": "code",
   "execution_count": 4,
   "metadata": {},
   "outputs": [],
   "source": [
    "import numpy as np\n",
    "import matplotlib.pyplot as plt\n",
    "import seaborn as sns\n",
    "import scipy.stats as st\n",
    "from scipy.integrate import quad"
   ]
  },
  {
   "cell_type": "code",
   "execution_count": 5,
   "metadata": {},
   "outputs": [
    {
     "name": "stdout",
     "output_type": "stream",
     "text": [
      "The mean of the data is : 6.85\n",
      "The median of the data is 7.0: \n",
      "The median of the data is ModeResult(mode=array([7]), count=array([5])): \n",
      "The standard deviation of the data is : 1.5898113095584647\n"
     ]
    }
   ],
   "source": [
    "#Problem Statement 1: \n",
    "arr=np.array([6,7,5,7,7,8,7,6,9,7,4,10,6,8,8,9,5,6,4,8])\n",
    "mean=np.mean(arr)\n",
    "median=np.median(arr)\n",
    "mode=st.mode(arr)\n",
    "std=np.std(arr)\n",
    "print(\"The mean of the data is : {}\".format(mean))\n",
    "print(\"The median of the data is {}: \".format(median))\n",
    "print(\"The median of the data is {}: \".format(mode))\n",
    "print(\"The standard deviation of the data is : {}\".format(std))"
   ]
  },
  {
   "cell_type": "code",
   "execution_count": 6,
   "metadata": {},
   "outputs": [
    {
     "name": "stdout",
     "output_type": "stream",
     "text": [
      "The mean of the data is : 107.51428571428572\n",
      "The median of the data is 100.0: \n",
      "The median of the data is ModeResult(mode=array([75]), count=array([4])): \n",
      "The standard deviation of the data is : 38.77287080168403\n"
     ]
    }
   ],
   "source": [
    "#Problem Statement 2: \n",
    "arr1=np.array([28, 122, 217, 130, 120, 86, 80, 90, 140, 120, 70, 40, 145, 113, 90, 68, 174, 194, 170,\n",
    "100, 75, 104, 97, 75,123, 100, 75, 104, 97, 75, 123, 100, 89, 120, 109])\n",
    "mean=np.mean(arr1)\n",
    "median=np.median(arr1)\n",
    "mode=st.mode(arr1)\n",
    "std=np.std(arr1)\n",
    "print(\"The mean of the data is : {}\".format(mean))\n",
    "print(\"The median of the data is {}: \".format(median))\n",
    "print(\"The median of the data is {}: \".format(mode))\n",
    "print(\"The standard deviation of the data is : {}\".format(std))"
   ]
  },
  {
   "cell_type": "code",
   "execution_count": 7,
   "metadata": {},
   "outputs": [
    {
     "name": "stdout",
     "output_type": "stream",
     "text": [
      "The mean number of workouts in a week are 2.15\n",
      "The variance is 1.2275\n"
     ]
    }
   ],
   "source": [
    "#Problem Statement 3: \n",
    "x=[0, 1, 2, 3, 4, 5]\n",
    "p=[0.09, 0.15, 0.40, 0.25, 0.10, 0.01]\n",
    "avg=0\n",
    "var=0\n",
    "for i,j in zip(x,p):\n",
    "    avg=avg+i*j\n",
    "for i,j in zip(x,p):\n",
    "    var=var+(((i-avg)**2)*j)\n",
    "print(\"The mean number of workouts in a week are {}\".format(avg))\n",
    "print(\"The variance is {}\".format(var))"
   ]
  },
  {
   "cell_type": "code",
   "execution_count": 8,
   "metadata": {},
   "outputs": [
    {
     "name": "stdout",
     "output_type": "stream",
     "text": [
      "The proportion of the parts with diameter greater than 12.6mm is: 0.13533528323661398\n",
      "The cdf when the diameter is of 11mm is zero\n",
      "The proportion of the parts between 12.5 and 12.6 is: 0.8646647167633718\n",
      "In other words sum of the proportion of the parts between 12.5 and 12.6 and proportion of the parts greater than 12.6 is 1,which indicates that the proportion of the parts less than 12.5 is 0\n"
     ]
    }
   ],
   "source": [
    "#Problem Statement 4: \n",
    "def prob_func(d):\n",
    "    return (20*np.exp(-20*(d-12.5)))\n",
    "res=quad(prob_func,a=12.6,b=np.inf)[0]\n",
    "#integral(PDF(d) with limits 12.6,inf)--P(X>12.6)\n",
    "print(\"The proportion of the parts with diameter greater than 12.6mm is:\",res)\n",
    "#If d<12.5, pdf(d)=0\n",
    "print(\"The cdf when the diameter is of 11mm is zero\")\n",
    "#P(X<12.5)=0\n",
    "res1=quad(prob_func,a=12.5,b=12.6)[0]\n",
    "print(\"The proportion of the parts between 12.5 and 12.6 is:\",res1)\n",
    "print(\"In other words sum of the proportion of the parts between 12.5 and 12.6 and proportion of the parts greater than 12.6 is 1,which indicates that the proportion of the parts less than 12.5 is 0\")\n",
    "\n"
   ]
  },
  {
   "cell_type": "code",
   "execution_count": 9,
   "metadata": {},
   "outputs": [
    {
     "name": "stdout",
     "output_type": "stream",
     "text": [
      "nan\n"
     ]
    },
    {
     "name": "stderr",
     "output_type": "stream",
     "text": [
      "<ipython-input-8-f4f646a87f68>:3: RuntimeWarning: overflow encountered in exp\n",
      "  return (20*np.exp(-20*(d-12.5)))\n",
      "<ipython-input-9-af17549487e0>:1: IntegrationWarning: The maximum number of subdivisions (50) has been achieved.\n",
      "  If increasing the limit yields no improvement it is advised to analyze \n",
      "  the integrand in order to determine the difficulties.  If the position of a \n",
      "  local difficulty can be determined (singularity, discontinuity) one will \n",
      "  probably gain from splitting up the interval and calling the integrator \n",
      "  on the subranges.  Perhaps a special-purpose integrator should be used.\n",
      "  res=quad(prob_func,a=-np.inf,b=12.5)[0]\n"
     ]
    }
   ],
   "source": [
    "res=quad(prob_func,a=-np.inf,b=12.5)[0]\n",
    "print(res)"
   ]
  },
  {
   "cell_type": "code",
   "execution_count": 10,
   "metadata": {},
   "outputs": [
    {
     "name": "stdout",
     "output_type": "stream",
     "text": [
      "The probability of finding two faulty led's is 0.3196\n",
      "The mean of the process is 1.81065\n",
      "The standard deviation of the process is 1.1318553695150277\n"
     ]
    }
   ],
   "source": [
    "#Problem Statement 5: \n",
    "faulty_rate=0.3\n",
    "n=6\n",
    "r=2\n",
    "trails=20000\n",
    "binom=np.random.binomial(n,faulty_rate,trails)\n",
    "probability_of_2_faulty=np.sum(binom==2)/20000\n",
    "mean=binom.mean()\n",
    "standard_dev=binom.std()\n",
    "print(\"The probability of finding two faulty led's is {}\".format(probability_of_2_faulty))\n",
    "print(\"The mean of the process is {}\".format(mean))\n",
    "print('The standard deviation of the process is {}'.format(standard_dev))"
   ]
  },
  {
   "cell_type": "code",
   "execution_count": 11,
   "metadata": {},
   "outputs": [
    {
     "name": "stdout",
     "output_type": "stream",
     "text": [
      "Probability of gaurav solving 5 questions correctly is: 0.20665\n",
      "Probability of barkha solving 5 questions correctly is: 0.2173\n",
      "Probability of gaurav solving 4 questions correctly is: 0.0843\n",
      "Probability of barkha solving 4 questions correctly is: 0.17065\n",
      "Probability of gaurav solving 6 questions correctly is: 0.3122\n",
      "Probability of barkha solving 6 questions correctly is: 0.2178\n"
     ]
    }
   ],
   "source": [
    "#Problem Statement 6: \n",
    "gaurav_dist=np.random.binomial(8,0.75,20000)\n",
    "barkha_dist=np.random.binomial(12,0.45,20000)\n",
    "gaurav_prob=[]\n",
    "barkha_prob=[]\n",
    "for i in range(9):\n",
    "    gaurav_prob.append(np.sum(gaurav_dist==i)/20000)\n",
    "    barkha_prob.append(np.sum(barkha_dist==i)/20000)\n",
    "print(\"Probability of gaurav solving 5 questions correctly is:\",gaurav_prob[5])\n",
    "print(\"Probability of barkha solving 5 questions correctly is:\",barkha_prob[5])\n",
    "print(\"Probability of gaurav solving 4 questions correctly is:\",gaurav_prob[4])\n",
    "print(\"Probability of barkha solving 4 questions correctly is:\",barkha_prob[4])\n",
    "print(\"Probability of gaurav solving 6 questions correctly is:\",gaurav_prob[6])\n",
    "print(\"Probability of barkha solving 6 questions correctly is:\",barkha_prob[6])"
   ]
  },
  {
   "cell_type": "code",
   "execution_count": 12,
   "metadata": {},
   "outputs": [
    {
     "data": {
      "text/plain": [
       "Text(0.5, 1.0, 'Probability distribution of Gaurav with p=0.75,n=8')"
      ]
     },
     "execution_count": 12,
     "metadata": {},
     "output_type": "execute_result"
    },
    {
     "data": {
      "image/png": "[encoded data removed]",
      "text/plain": [
       "<Figure size 432x288 with 1 Axes>"
      ]
     },
     "metadata": {
      "needs_background": "light"
     },
     "output_type": "display_data"
    }
   ],
   "source": [
    "x=[i for i in range(9)]\n",
    "plt.plot(x,gaurav_prob)\n",
    "plt.xlabel(\"Number of correct questions\")\n",
    "plt.ylabel(\"P(x)\")\n",
    "plt.title(\"Probability distribution of Gaurav with p=0.75,n=8\")"
   ]
  },
  {
   "cell_type": "code",
   "execution_count": 13,
   "metadata": {},
   "outputs": [
    {
     "data": {
      "text/plain": [
       "Text(0.5, 1.0, 'Probability distribution of Barkha with p=0.45,n=12')"
      ]
     },
     "execution_count": 13,
     "metadata": {},
     "output_type": "execute_result"
    },
    {
     "data": {
      "image/png": "[encoded data removed]",
      "text/plain": [
       "<Figure size 432x288 with 1 Axes>"
      ]
     },
     "metadata": {
      "needs_background": "light"
     },
     "output_type": "display_data"
    }
   ],
   "source": [
    "plt.plot(x,barkha_prob)\n",
    "plt.xlabel(\"Number of correct questions\")\n",
    "plt.ylabel(\"P(x)\")\n",
    "plt.title(\"Probability distribution of Barkha with p=0.45,n=12\")"
   ]
  },
  {
   "cell_type": "code",
   "execution_count": 14,
   "metadata": {},
   "outputs": [
    {
     "data": {
      "text/plain": [
       "Text(0.5, 1.0, 'Probability distribution of gaurav and Barkha ')"
      ]
     },
     "execution_count": 14,
     "metadata": {},
     "output_type": "execute_result"
    },
    {
     "data": {
      "image/png": "[encoded data removed]",
      "text/plain": [
       "<Figure size 432x288 with 1 Axes>"
      ]
     },
     "metadata": {
      "needs_background": "light"
     },
     "output_type": "display_data"
    }
   ],
   "source": [
    "plt.plot(x,gaurav_prob,label=\"Gaurav\")\n",
    "plt.plot(x,barkha_prob,label='Barkha')\n",
    "plt.xlabel(\"Number of correct questions\")\n",
    "plt.ylabel(\"P(x)\")\n",
    "plt.figlegend()\n",
    "plt.title(\"Probability distribution of gaurav and Barkha \")"
   ]
  },
  {
   "cell_type": "markdown",
   "metadata": {},
   "source": [
    "so we can say as number of questions increase first probability of correct question is increasing but after one point it is decreasing."
   ]
  },
  {
   "cell_type": "code",
   "execution_count": 15,
   "metadata": {},
   "outputs": [
    {
     "name": "stdout",
     "output_type": "stream",
     "text": [
      "The probability of 5 customers arriving is 0.16\n",
      "The probability of not more than 3 customers is :0.295\n",
      "The probability of more than 3 customers is 0.705\n"
     ]
    },
    {
     "data": {
      "text/plain": [
       "<matplotlib.axes._subplots.AxesSubplot at 0x224435eefa0>"
      ]
     },
     "execution_count": 15,
     "metadata": {},
     "output_type": "execute_result"
    },
    {
     "data": {
      "image/png": "[encoded data removed]",
      "text/plain": [
       "<Figure size 432x288 with 1 Axes>"
      ]
     },
     "metadata": {
      "needs_background": "light"
     },
     "output_type": "display_data"
    }
   ],
   "source": [
    "#Problem Statement 7: \n",
    "mean_4mins=(72/60)*4\n",
    "dist=np.random.poisson(mean_4mins,1000)\n",
    "prob_5=np.sum(dist==5)/1000\n",
    "prob_less_than_3=np.sum(dist<=3)/1000\n",
    "prob_more_3=np.sum(dist>3)/1000\n",
    "print(\"The probability of 5 customers arriving is {}\".format(prob_5))\n",
    "print('The probability of not more than 3 customers is :{}'.format(prob_less_than_3))\n",
    "print(\"The probability of more than 3 customers is {}\".format(prob_more_3))\n",
    "sns.distplot(dist,hist=False,color='red')"
   ]
  },
  {
   "cell_type": "code",
   "execution_count": 16,
   "metadata": {},
   "outputs": [
    {
     "data": {
      "text/plain": [
       "Text(0, 0.5, 'Probability of two errors')"
      ]
     },
     "execution_count": 16,
     "metadata": {},
     "output_type": "execute_result"
    },
    {
     "data": {
      "image/png": "[encoded data removed]",
      "text/plain": [
       "<Figure size 432x288 with 1 Axes>"
      ]
     },
     "metadata": {
      "needs_background": "light"
     },
     "output_type": "display_data"
    }
   ],
   "source": [
    "#Problem Statement 8:\n",
    "n_errors_per_min=6/60 \n",
    "words=[100,255,455,1000,1500]\n",
    "prob=[]\n",
    "for i in words:\n",
    "    lamda=(i/77)*n_errors_per_min\n",
    "    dist=np.random.poisson(lamda,1000)\n",
    "    prob.append(np.sum(dist==2)/1000)\n",
    "plt.plot(words,prob)\n",
    "plt.xlabel(\"Number of Words\")\n",
    "plt.ylabel(\"Probability of two errors\")"
   ]
  },
  {
   "cell_type": "code",
   "execution_count": 17,
   "metadata": {},
   "outputs": [],
   "source": [
    "#From the above graph we can infer that as the number of words increases, the probability of committing two errors also increases"
   ]
  },
  {
   "cell_type": "code",
   "execution_count": 18,
   "metadata": {},
   "outputs": [],
   "source": [
    "#Problem Statement 9 is same as 4"
   ]
  },
  {
   "cell_type": "code",
   "execution_count": 19,
   "metadata": {},
   "outputs": [
    {
     "name": "stdout",
     "output_type": "stream",
     "text": [
      "P(Z > 1.26) :  0.10383468112130045\n",
      "P(Z < −0.86): 0.1948945212518084\n",
      "P(Z > −1.37): 0.914656549178033\n",
      "P(−1.25 < Z < 0.37): 0.5386589811336914\n",
      "P(Z ≤ −4.6): 0.9999978875452975\n",
      "value 𝑧 such that 𝑃(𝑍 > 𝑧) = 0.05: 1.6448536269514729\n",
      "value of 𝑧 such that 𝑃(−𝑧 < 𝑍 < 𝑧): 2.3263478740408408\n"
     ]
    }
   ],
   "source": [
    "#Problem Statement 10:\n",
    "print(\"P(Z > 1.26) : \",1-(st.norm.cdf(1.26)))\n",
    "print(\"P(Z < −0.86):\",st.norm.cdf(-0.86))\n",
    "print(\"P(Z > −1.37):\",1-(st.norm.cdf(-1.37)))\n",
    "print(\"P(−1.25 < Z < 0.37):\",(st.norm.cdf(0.37)-st.norm.cdf(-1.25)))\n",
    "\n",
    "print(\"P(Z ≤ −4.6):\",st.norm.cdf(4.6))\n",
    "print(\"value 𝑧 such that 𝑃(𝑍 > 𝑧) = 0.05:\",np.absolute(st.norm.ppf(0.05)))\n",
    "print(\"value of 𝑧 such that 𝑃(−𝑧 < 𝑍 < 𝑧):\",st.norm.ppf(0.99))"
   ]
  },
  {
   "cell_type": "code",
   "execution_count": 20,
   "metadata": {},
   "outputs": [
    {
     "name": "stdout",
     "output_type": "stream",
     "text": [
      "probability that a current measurement will exceed 13 𝑚𝐴: 0.06680720126885809\n",
      "probability that a current measurement is between 9 and 11mA: 0.38292492254802624\n",
      "current measurement which has a probability of 0.98: 14.107497821263646\n"
     ]
    }
   ],
   "source": [
    "#Problem Statement 11:\n",
    "mean=10\n",
    "std=2\n",
    "print(\"probability that a current measurement will exceed 13 𝑚𝐴:\",1-(st.norm.cdf(x=13,loc=mean,scale=std)))\n",
    "print(\"probability that a current measurement is between 9 and 11mA:\",(st.norm.cdf(x=11,loc=mean,scale=std)-st.norm.cdf(x=9,loc=mean,scale=std)))\n",
    "print(\"current measurement which has a probability of 0.98:\",st.norm.ppf(q=0.98,loc=mean,scale=std))"
   ]
  },
  {
   "cell_type": "code",
   "execution_count": 21,
   "metadata": {},
   "outputs": [
    {
     "name": "stdout",
     "output_type": "stream",
     "text": [
      "Proportion of shafts in sync with the specifications are: 0.91924122831152\n",
      "Proportion of shafts in sync with the specifications after the process is centered is: 0.9973002039367398\n"
     ]
    }
   ],
   "source": [
    "#Problem Statement 12:\n",
    "mean=0.2508\n",
    "std=0.0005\n",
    "l1=0.2500-0.0015\n",
    "l2=0.2500+0.0015\n",
    "print(\"Proportion of shafts in sync with the specifications are:\",(st.norm.cdf(x=l2,loc=mean,scale=std)-st.norm.cdf(x=l1,loc=mean,scale=std)))\n",
    "new_mean=0.2500\n",
    "print(\"Proportion of shafts in sync with the specifications after the process is centered is:\",(st.norm.cdf(x=l2,loc=new_mean,scale=std)-st.norm.cdf(x=l1,loc=new_mean,scale=std)))"
   ]
  },
  {
   "cell_type": "code",
   "execution_count": 22,
   "metadata": {},
   "outputs": [],
   "source": [
    "# Conclusion: If the mean of the shafts is centered to the mean of the specifications of the shaft the proportion of shafts which are in sync with the specification increases."
   ]
  },
  {
   "cell_type": "code",
   "execution_count": null,
   "metadata": {},
   "outputs": [],
   "source": []
  }
 ],
 "metadata": {
  "kernelspec": {
   "display_name": "Python 3",
   "language": "python",
   "name": "python3"
  },
  "language_info": {
   "codemirror_mode": {
    "name": "ipython",
    "version": 3
   },
   "file_extension": ".py",
   "mimetype": "text/x-python",
   "name": "python",
   "nbconvert_exporter": "python",
   "pygments_lexer": "ipython3",
   "version": "3.8.3"
  }
 },
 "nbformat": 4,
 "nbformat_minor": 4
}
