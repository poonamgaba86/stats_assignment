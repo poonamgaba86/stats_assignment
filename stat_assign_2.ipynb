{
 "cells": [
  {
   "cell_type": "code",
   "execution_count": 1,
   "metadata": {},
   "outputs": [],
   "source": [
    "import numpy as np\n",
    "import scipy.stats as st\n",
    "import matplotlib.pyplot as plt\n",
    "import seaborn as sns\n",
    "import pandas as pd"
   ]
  },
  {
   "cell_type": "code",
   "execution_count": 2,
   "metadata": {},
   "outputs": [],
   "source": [
    "def z_stat(samp_mean,pop_mean,se):\n",
    "    return (samp_mean-pop_mean)/se\n",
    "def t_stat(samp_mean,pop_mean,se):\n",
    "    return (samp_mean-pop_mean)/se\n",
    "def sample_error(std,n):\n",
    "    return std/(np.sqrt(n))"
   ]
  },
  {
   "cell_type": "markdown",
   "metadata": {},
   "source": [
    "Problem statement 1\n",
    "1.\tTrue \n",
    "Reason:- Null hypothesis is equal to 25 and alternative is not equal to 25,so they are      apposite to each other\n",
    "2.\tFalse\n",
    "Reason:- Null hypothesis is greater than 10 so ideally alternative hypothesis should be less than  or equal to 10\n",
    "3.\tTrue :-\n",
    "\n",
    "Reason:- Null hypothesis is equal to 50 and  alternative is not equal to 50\n",
    "4.\tFalse :- \n",
    "Reason:- null hypothesis is equal to 0.1 while alternative is 0.5 ,which is not opposite of null hypothesis\n",
    "5.\tFalse:-\n",
    "Reason:- null hypothesis is equal to 30 so ideally alternative could be greater than or less than 30 but in question only greater than is given.\n",
    "\n"
   ]
  },
  {
   "cell_type": "code",
   "execution_count": 3,
   "metadata": {},
   "outputs": [
    {
     "name": "stdout",
     "output_type": "stream",
     "text": [
      "Null Hypothesis is accepted,  𝜇=52\n"
     ]
    }
   ],
   "source": [
    "#Problem statement 2\n",
    "\n",
    "#Since the population variance is given and the sample size>30 we can use the z-test\n",
    "\n",
    "#Null Hypothesis H0: 𝜇=52 Alternative Hypothesis H1: 𝜇!=52(Two tailed test)\n",
    "\n",
    "alpha=0.05\n",
    "pop_mean=52\n",
    "pop_std=4.5\n",
    "samp_size=100\n",
    "samp_mean=52.80\n",
    "se=sample_error(pop_std,samp_size)\n",
    "# print(se)\n",
    "z=z_stat(pop_mean,samp_mean,se)\n",
    "# print(z)\n",
    "p=2*(1-(st.norm.cdf(np.absolute(z))))\n",
    "# print(p)\n",
    "if p<alpha:\n",
    "    print(\"Null Hypothesis is rejected, 𝜇!=52\")\n",
    "else:\n",
    "    print(\"Null Hypothesis is accepted,  𝜇=52\")"
   ]
  },
  {
   "cell_type": "code",
   "execution_count": 4,
   "metadata": {},
   "outputs": [
    {
     "name": "stdout",
     "output_type": "stream",
     "text": [
      "Null Hypothesis is accepted,  𝜇=34\n"
     ]
    }
   ],
   "source": [
    "#Problem statement 3\n",
    "#Since the population variance is given and the sample size>30 we can use the z-test\n",
    "#Null Hypothesis H0: 𝜇=34, Alternative Hypothesis H1: 𝜇<34(One tailed test)(Left-tailed)\n",
    "\n",
    "\n",
    "z=z_stat(pop_mean=34,samp_mean=32.5,se=sample_error(8,50))\n",
    "# print(z)\n",
    "p=st.norm.cdf(z)\n",
    "# print(p)\n",
    "alpha=0.01\n",
    "if p<alpha:\n",
    "    print(\"Null Hypothesis is rejected, 𝜇<34\")\n",
    "else:\n",
    "    print(\"Null Hypothesis is accepted,  𝜇=34\")"
   ]
  },
  {
   "cell_type": "code",
   "execution_count": 5,
   "metadata": {},
   "outputs": [
    {
     "name": "stdout",
     "output_type": "stream",
     "text": [
      "Null Hypothesis is rejected, 𝜇!=$1135\n"
     ]
    }
   ],
   "source": [
    "#Problem statement 4\n",
    "\n",
    "#Null Hypothesis : H0: mean=$1135(on average,a family of four in the U.S.spends about $1135 annually on dental expenditures) \n",
    "#Alternative Hypothesis : H1:mean!=$1135(Two tailed test)\n",
    "\n",
    "\n",
    "# Since the sample size<30 and population variance is not known and the sample is derived from a normal population we use t-test\n",
    "alpha=0.5\n",
    "samp_data=np.array([1008,812,1117,1323,1308,1415,831,1021,1287,851,930,730,699,872,913,944,954,987,1695,995,1003,994])\n",
    "samp_mean=np.mean(samp_data)\n",
    "# print(samp_mean)\n",
    "samp_std=np.std(samp_data)\n",
    "# print(samp_std)\n",
    "t=t_stat(pop_mean=1135,samp_mean=samp_mean,se=sample_error(samp_std,len(samp_data)))\n",
    "# print(t)\n",
    "p=2*(1-st.t.cdf(x=np.absolute(t),df=21))\n",
    "# print(p)\n",
    "if p<alpha:\n",
    "    print(\"Null Hypothesis is rejected, 𝜇!=$1135\")\n",
    "else:\n",
    "    print(\"Null Hypothesis is accepted,  𝜇=$1135\")"
   ]
  },
  {
   "cell_type": "code",
   "execution_count": 7,
   "metadata": {},
   "outputs": [
    {
     "name": "stdout",
     "output_type": "stream",
     "text": [
      "Null Hypothesis is accepted(Average family income of metropolis is $48432)\n"
     ]
    }
   ],
   "source": [
    "# Problem statement 5\n",
    "\n",
    "# Hypothesis H0 : Average Family Income on Metropolis is $48,432(𝜇=48,432)\n",
    "# Alternative Hypothesis H1 : 𝜇!=48432(Two-Tailed test)\n",
    "\n",
    "#Since the sample size>30 and the normality of the sample is not known we can use z-test\n",
    "\n",
    "alpha=0.05\n",
    "z=z_stat(pop_mean=48432,samp_mean=48574,se=sample_error(2000,400))\n",
    "# print(z)\n",
    "p=2*(1-st.norm.cdf(x=np.absolute(z)))\n",
    "if p<alpha:\n",
    "    print(\"Null Hypothesis is rejected(Average family income of metropolis is not $48432)\")\n",
    "else:\n",
    "    print(\"Null Hypothesis is accepted(Average family income of metropolis is $48432)\")\n"
   ]
  },
  {
   "cell_type": "code",
   "execution_count": 3,
   "metadata": {},
   "outputs": [
    {
     "name": "stdout",
     "output_type": "stream",
     "text": [
      "0.05403352915997206\n",
      "Null Hypothesis is accepted(𝜇=$32.28)\n"
     ]
    }
   ],
   "source": [
    "# Problem Statement 6:\n",
    "\n",
    "# Null Hypothesis H0 : Average Price per square foot for wharehouses in US is $32.28(𝜇=$32.28) \n",
    "# Alternative Hypothesis H1 : 𝜇!=32.28(Two-Tailed test)\n",
    "\n",
    "\n",
    "\n",
    "#Since the sample size <30 and population std is not known we use t-test\n",
    "\n",
    "alpha=0.05\n",
    "t=t_stat(pop_mean=32.28,samp_mean=31.67,se=sample_error(std=1.29,n=19))\n",
    "# print(t)\n",
    "p=2*(1-st.t.cdf(df=18,x=np.absolute(t)))\n",
    "print(p)\n",
    "if p<alpha:\n",
    "    print(\"Null Hypothesis is rejected(𝜇!=$32.28)\")\n",
    "else:\n",
    "    print(\"Null Hypothesis is accepted(𝜇=$32.28)\")"
   ]
  },
  {
   "cell_type": "code",
   "execution_count": 23,
   "metadata": {},
   "outputs": [
    {
     "name": "stdout",
     "output_type": "stream",
     "text": [
      " value of type 1 error(α) would be  0.057779571123597155\n",
      "value of type 2 error would be at µ = 52 :-   0.26354940189269166\n",
      "value of type 2 error would be at µ = 50.5 :-   0.9027544128269667\n"
     ]
    }
   ],
   "source": [
    "# Problem Statement 7:\n",
    "\n",
    "# without std dev this problem cant be solved. so i am assuming std dev = 2.5 \n",
    "\n",
    "# acceptance region = 48.5 < x̅ <51.5  sample size(n)=10\n",
    "pop_std=2.5\n",
    "samp_size=10\n",
    "samp_mean=(48.5+51.5)/2\n",
    "se=sample_error(pop_std,samp_size)\n",
    "\n",
    "# α = P(x̅ < 48.5;µ = 50) +P(x̅ > 51.5;µ = 50)  # type 1 error\n",
    "\n",
    "z1=z_stat(48.5,50,se)\n",
    "z2=z_stat(51.5,50,se)\n",
    "\n",
    "z1_less=st.norm.cdf(z1)\n",
    "z2_great=1-st.norm.cdf(z2)\n",
    "\n",
    "z=z1_less+z2_great\n",
    "print(\" value of type 1 error(α) would be \",z)\n",
    "\n",
    "# β at µ =52\n",
    "\n",
    "# β = P(48.5 ≤ x̅ ≤ 51.5;µ = 52)\n",
    "\n",
    "# A type II error will be committed if the sample mean X¯ falls between 48.5\n",
    "# and 51.5, when µ = 52 and n = 10.\n",
    "\n",
    "z1=z_stat(48.5,52,se)\n",
    "z2=z_stat(51.5,52,se)\n",
    "\n",
    "z1_less=st.norm.cdf(z1)\n",
    "z2_less=st.norm.cdf(z2)\n",
    "\n",
    "β= z1_less+z2_less\n",
    "\n",
    "print(\"value of type 2 error would be at µ = 52 :-  \", β)\n",
    "\n",
    "\n",
    "\n",
    "# β at µ =50.5\n",
    "\n",
    "# β = P(48.5 ≤ x̅ ≤ 51.5;µ = 50.5)\n",
    "z1=z_stat(48.5,50.5,se)\n",
    "z2=z_stat(51.5,50.5,se)\n",
    "\n",
    "z1_less=st.norm.cdf(z1)\n",
    "z2_less=st.norm.cdf(z2)\n",
    "\n",
    "β= z1_less+z2_less\n",
    "\n",
    "print(\"value of type 2 error would be at µ = 50.5 :-  \", β)"
   ]
  },
  {
   "cell_type": "code",
   "execution_count": 21,
   "metadata": {},
   "outputs": [
    {
     "name": "stdout",
     "output_type": "stream",
     "text": [
      "   Acceptance Region    Sample size       α    β at µ =52     β at µ =50.5 \n",
      "0   48.5 < x̅ < 51.5              10   0.057        0.263              0.90\n",
      "1       48 < x̅ < 52              10   0.011        0.500              0.97\n",
      "2  48.81 < x̅ < 51.9              16   0.057         0.09              0.86\n",
      "3  48.42 < x̅ < 51.58             16   0.011         0.25              0.95\n"
     ]
    }
   ],
   "source": [
    "# now the same way we can calculate complete table\n",
    "\n",
    "df= pd.DataFrame({\"Acceptance Region \": pd.Series([\"48.5 < x̅ < 51.5 \",\"48 < x̅ < 52 \",\"48.81 < x̅ < 51.9 \",\"48.42 < x̅ < 51.58\"]),\n",
    "                 \"  Sample size \": pd.Series([\"10\",\"10\",\"16\",\"16\"]),\n",
    "                 \"α \": pd.Series([\" 0.057\",\"0.011\",\"0.057\",\"0.011\"]),\n",
    "                 \"  β at µ =52\":pd.Series([\"0.263\",\"0.500\",\"0.09\",\"0.25\"]),\n",
    "                 \"    β at µ =50.5 \":pd.Series([\"0.90\",\"0.97\",\"0.86\",\"0.95\"])\n",
    "                 })\n",
    "print(df)"
   ]
  },
  {
   "cell_type": "markdown",
   "metadata": {},
   "source": [
    "# Conclusion\n",
    "# Type I and type II errors are related. When sample size n is fixed, a decrease in the probability of one type of error always results in an increase\n",
    "# in the probability of the other"
   ]
  },
  {
   "cell_type": "code",
   "execution_count": 10,
   "metadata": {},
   "outputs": [
    {
     "name": "stdout",
     "output_type": "stream",
     "text": [
      "t-score is : 5.333333333333333\n"
     ]
    }
   ],
   "source": [
    "# problem statemnt :- 8\n",
    "\n",
    "print(\"t-score is :\",t_stat(pop_mean=10,samp_mean=12,se=sample_error(std=1.5,n=16)))"
   ]
  },
  {
   "cell_type": "code",
   "execution_count": 11,
   "metadata": {},
   "outputs": [
    {
     "name": "stdout",
     "output_type": "stream",
     "text": [
      "The t-score below which we can expect 99% of sample means will fall is :  2.602480294995493\n"
     ]
    }
   ],
   "source": [
    "#Problem statement 9\n",
    "\n",
    "print(\"The t-score below which we can expect 99% of sample means will fall is : \",st.t.ppf(q=0.99,df=15))"
   ]
  },
  {
   "cell_type": "code",
   "execution_count": 12,
   "metadata": {},
   "outputs": [
    {
     "name": "stdout",
     "output_type": "stream",
     "text": [
      "The t-score where we can expect to find the middle 95%of all sample means is : 1.7108820799094275\n",
      "P(−𝑡0.05 <𝑡<𝑡0.10) =  0.85\n"
     ]
    }
   ],
   "source": [
    "#Problem statement 10\n",
    "\n",
    "print(\"The t-score where we can expect to find the middle 95%of all sample means is :\",st.t.ppf(q=0.95,df=24))\n",
    "print(\"P(−𝑡0.05 <𝑡<𝑡0.10) = \",1-0.05-0.10)"
   ]
  },
  {
   "cell_type": "code",
   "execution_count": 13,
   "metadata": {},
   "outputs": [
    {
     "name": "stdout",
     "output_type": "stream",
     "text": [
      "Null Hypothesis is rejected(number of people travelling from Bangalore to Chennai is different from the number of people travelling from Bangalore to Hosur in a week(𝜇1!=𝜇2)\n"
     ]
    }
   ],
   "source": [
    "#Problem statement 11\n",
    "# Null Hypothesis H0: number of people travelling from Bangalore to Chennai is same as from the number of people travelling\n",
    "# from Bangalore to Hosur in a week(𝜇1=𝜇2) \n",
    "\n",
    "# Alternative Hypothesis  H1:number of people travelling from Bangalore to Chennai is different from the number of people travelling from Bangalore to\n",
    "# Hosur in a week(𝜇1!=𝜇2)\n",
    "\n",
    "# Since the sample sizes are larger we use z-test for checking the equality of population means\n",
    "def z_stat_twomeans(x1,x2,se):\n",
    "    return (x1-x2)/se\n",
    "def sample_error_twomeans(s1,n1,s2,n2):\n",
    "#     s=np.sqrt((s1**2/n1)+(s2**2/n2))\n",
    "    s1=(s1+s2)/np.sqrt(n1+n2)\n",
    "#     print(s1)\n",
    "    return (s1)\n",
    "alpha=0.05\n",
    "z=z_stat_twomeans(x1=452,x2=523,se=sample_error_twomeans(s1=212,n1=1200,s2=185,n2=800))\n",
    "# print(z)\n",
    "p=2*(1-st.norm.cdf(x=np.absolute(z)))\n",
    "if p<alpha:\n",
    "    print(\"Null Hypothesis is rejected(number of people travelling from Bangalore to Chennai is different from the number of people travelling from Bangalore to Hosur in a week(𝜇1!=𝜇2)\")\n",
    "else:\n",
    "    print('Null Hypothesis is accepted(number of people travelling from Bangalore to Chennai is same as  from the number of people travelling from Bangalore to Hosur in a week(𝜇1=𝜇2))')"
   ]
  },
  {
   "cell_type": "code",
   "execution_count": 14,
   "metadata": {},
   "outputs": [
    {
     "name": "stdout",
     "output_type": "stream",
     "text": [
      "Null Hypothesis is rejected(there is evidence to conclude that the number of people preferring Duracell battery is different from the number of people preferring Energizer battery (𝜇1!=𝜇2))\n"
     ]
    }
   ],
   "source": [
    "#Problem statement 12\n",
    "# Since the sample sizes are larger we use z-test for checking the equality of population means\n",
    "\n",
    "# Null Hypothesis H0: there is evidence to conclude that the number of people preferring Duracell battery is same as from the\n",
    "# number of people preferring Energizer battery (𝜇1=𝜇2)\n",
    "# Alternative Hypothesis H1:there is evidence to conclude that the number of people preferring Duracell battery is different \n",
    "# from the number of people preferring Energizer battery (𝜇1!=𝜇2)\n",
    "\n",
    "alpha=0.05\n",
    "z=z_stat_twomeans(x1=308,x2=254,se=sample_error_twomeans(s1=84,n1=100,s2=67,n2=100))\n",
    "# print(z)\n",
    "p=2*(1-st.norm.cdf(x=np.absolute(z)))\n",
    "if p<alpha:\n",
    "    print(\"Null Hypothesis is rejected(there is evidence to conclude that the number of people preferring Duracell battery is different from the number of people preferring Energizer battery (𝜇1!=𝜇2))\")\n",
    "else:\n",
    "    print(\"Null Hypothesis is accepted(there is evidence to conclude that the number of people preferring Duracell battery is same as from the number of people preferring Energizer battery (𝜇1=𝜇2))\")"
   ]
  },
  {
   "cell_type": "code",
   "execution_count": 15,
   "metadata": {},
   "outputs": [
    {
     "name": "stdout",
     "output_type": "stream",
     "text": [
      "Null Hypothesis is rejected(Average percentage increase in the price of sugar differs when it is sold at two different prices.)\n"
     ]
    }
   ],
   "source": [
    "#Problem statement 13\n",
    "\n",
    "# Null Hypothesis H0: Average percentage increase in the price of sugar is same when it is sold at two different prices.\n",
    "# Alternative Hypothesis H1: Average percentage increase in the price of sugar differs when it is sold at two different prices.\n",
    "\n",
    "\n",
    "#Sample sizes are small and the population variance is unknown we use t-test for equality of means and estimate the population variance\n",
    "alpha=0.05\n",
    "def est_std(n1,s1,n2,s2):\n",
    "    return np.sqrt(((n1*s1**2)+(n2*s2**2))/(n1+n2-2))\n",
    "\n",
    "est_standard_dev=est_std(n1=14,s1=0.12,n2=9,s2=0.11)\n",
    "# print(est_standard_dev)\n",
    "t=z_stat_twomeans(x1=0.317,x2=0.21,se=sample_error_twomeans(s1=est_standard_dev,s2=est_standard_dev,n1=14,n2=9))\n",
    "# print(t)\n",
    "p=2*(1-st.t.cdf(x=np.absolute(t),df=14+9-2))\n",
    "if p<alpha:\n",
    "    print(\"Null Hypothesis is rejected(Average percentage increase in the price of sugar differs when it is sold at two different prices.)\")\n",
    "else:\n",
    "    print(\"Null Hypothesis is accepted(Average percentage increase in the price of sugar is same when it is sold at two different prices.)\")"
   ]
  },
  {
   "cell_type": "code",
   "execution_count": 14,
   "metadata": {},
   "outputs": [
    {
     "name": "stdout",
     "output_type": "stream",
     "text": [
      "Null Hypothesis is accepted(Average Sales before and after reduction is same or less)\n"
     ]
    }
   ],
   "source": [
    "#Problem statement 14\n",
    "\n",
    "# Null Hypothesis H0 : 𝜇2-𝜇1<=0(Average Sales before and after reduction is same or less)\n",
    "# Alternative Hypothesis H1 : 𝜇2>𝜇1(Average Sales after reduction increased)(One Tailed Test)\n",
    "\n",
    "\n",
    "alpha=0.05\n",
    "est_stand_dev=est_std(n1=15,s1=844,n2=12,s2=669)\n",
    "t=z_stat_twomeans(x1=6870,x2=6598,se=sample_error_twomeans(s1=est_stand_dev,s2=est_stand_dev,n1=15,n2=12))\n",
    "p=1-(st.t.cdf(x=t,df=15+12-1))\n",
    "if p<alpha:\n",
    "    print(\"Null Hypothesis is rejected(Average Sales after reduction increased)\")\n",
    "else: \n",
    "    print(\"Null Hypothesis is accepted(Average Sales before and after reduction is same or less)\")"
   ]
  },
  {
   "cell_type": "code",
   "execution_count": 3,
   "metadata": {},
   "outputs": [
    {
     "name": "stdout",
     "output_type": "stream",
     "text": [
      "Null Hypothesis is rejected(Banks share of the car loan market in 1980 and 1995 is not equal(P1!=P2))\n"
     ]
    }
   ],
   "source": [
    "#Problem statement 15\n",
    "\n",
    "# Null Hypothesis H0: Banks share of the car loan market in 1980 and 1995 is equal(P1=P2)\n",
    "# Alternative Hypothesis H1 : Banks share of the car loan market in 1980 and 1995 is not equal(P1!=P2)(Two-Tailed test)\n",
    "\n",
    "\n",
    "def z_test_pop_proportions(p1,p2,se):\n",
    "    return ((p1-p2)/se)\n",
    "def sample_error_pop_proportions(p1,p2,n1,n2):\n",
    "    return np.sqrt(((p1*(1-p1))/n1)+((p2*(1-p2))/n2))\n",
    "alpha=0.05\n",
    "p1=53/1000\n",
    "p2=43/100\n",
    "z=z_test_pop_proportions(p1=p1,p2=p2,se=sample_error_pop_proportions(p1=p1,p2=p2,n1=1000,n2=100))\n",
    "p=2*(1-st.norm.cdf(x=np.absolute(z)))\n",
    "if p<alpha:\n",
    "    print(\"Null Hypothesis is rejected(Banks share of the car loan market in 1980 and 1995 is not equal(P1!=P2))\")\n",
    "else:\n",
    "    print(\"Null Hypothesis is accepted(Banks share of the car loan market in 1980 and 1995 is equal(P1=P2))\")"
   ]
  },
  {
   "cell_type": "code",
   "execution_count": 4,
   "metadata": {},
   "outputs": [
    {
     "name": "stdout",
     "output_type": "stream",
     "text": [
      "Null Hypothesis is accepted(the population proportion of traveler’s check buyers who buy at least $2500 in checks when sweepstakes prizes are offered as at least 10% higher than the proportion of such buyers when no sweepstakes are on)\n"
     ]
    }
   ],
   "source": [
    "#Problem statement 16\n",
    "# Null Hypothesis H0 : P1-P2>=0.1(the population proportion of traveler’s check buyers who buy at least $2500 in checks when\n",
    "# sweepstakes prizes are offered as at least 10% higher than the proportion of such buyers when no sweepstakes are on.)\n",
    "\n",
    "# Alternative Hypothesis H1 : P1-P2<0.1(Left-tailed test)\n",
    "\n",
    "\n",
    "alpha=0.05\n",
    "se=sample_error_pop_proportions(p1=0.4,p2=0.2,n1=300,n2=140)\n",
    "z=((0.4-0.2-0.1)/se)\n",
    "p=st.norm.cdf(z)\n",
    "if p<alpha:\n",
    "    print(\"Null Hypothesis is rejected\")\n",
    "else:\n",
    "    print(\"Null Hypothesis is accepted(the population proportion of traveler’s check buyers who buy at least $2500 in checks when sweepstakes prizes are offered as at least 10% higher than the proportion of such buyers when no sweepstakes are on)\")"
   ]
  },
  {
   "cell_type": "code",
   "execution_count": 5,
   "metadata": {},
   "outputs": [
    {
     "name": "stdout",
     "output_type": "stream",
     "text": [
      "Null Hypothesis is accepted(Dice is unbiased)\n"
     ]
    }
   ],
   "source": [
    "#Problem statement 17\n",
    "\n",
    "# Null Hypotheis H0: The dice is unbiased \n",
    "# Alternative Hypothesis H1 : The dice is biasedIf a die is unbiased then the probabilities of getting 1,2,3,4,5,6 must be equal \n",
    "# to 1/6. So the expected frequencies of 1,2,3,4,5,6 for 132 trails must be 22(22/132=1/6)\n",
    "\n",
    "observed=np.array([16,20,25,14,29,28])\n",
    "expected=np.array([22,22,22,22,22,22])\n",
    "chi,p=st.chisquare(f_obs=observed,f_exp=expected)\n",
    "if p<0.05:\n",
    "    print(\"Null Hypothesis is rejected(Dice is biased)\")\n",
    "else:\n",
    "    print(\"Null Hypothesis is accepted(Dice is unbiased)\")"
   ]
  },
  {
   "cell_type": "code",
   "execution_count": 5,
   "metadata": {},
   "outputs": [
    {
     "name": "stdout",
     "output_type": "stream",
     "text": [
      "The expected values are : [[2730.6474 3652.3526]\n",
      " [1547.3526 2069.6474]]\n",
      "Null Hypothesis is rejected(Gender and voting are dependent)\n"
     ]
    }
   ],
   "source": [
    "#Problem statement 18\n",
    "# Null Hypothesis H0 :Gender and voting is independent \n",
    "# Alternative Hypothesis H1 : Gender and voting are dependent\n",
    "\n",
    "\n",
    "#We use a chi-square test with the help of the above contingency table and calculate the chi-square variate \n",
    "alpha=0.05\n",
    "inp=np.array([[2792,3591],[1486,2131]])\n",
    "chi2,p,dof,expected=st.chi2_contingency(inp)\n",
    "print(\"The expected values are :\",expected)\n",
    "if p<alpha:\n",
    "    print(\"Null Hypothesis is rejected(Gender and voting are dependent)\")\n",
    "else:\n",
    "    print(\"Null Hypothesis is accepted(Gender and voting is independent)\")"
   ]
  },
  {
   "cell_type": "code",
   "execution_count": 6,
   "metadata": {},
   "outputs": [
    {
     "name": "stdout",
     "output_type": "stream",
     "text": [
      "Null Hypothesis is rejected(All candidates are not equally popular)\n"
     ]
    }
   ],
   "source": [
    "#Problem statement 19\n",
    "# Null Hypothesis H0 : All candidates are equally popular \n",
    "# Alternative Hypothesis H1 : All candidates are not equally popular\n",
    "\n",
    "\n",
    "alpha=0.05\n",
    "obs=[41,19,24,16]\n",
    "exp=[25,25,25,25]\n",
    "chi,p=st.chisquare(f_obs=obs,f_exp=exp)\n",
    "if p<alpha:\n",
    "    print(\"Null Hypothesis is rejected(All candidates are not equally popular)\")\n",
    "else:\n",
    "    print(\"Null Hypothesis is accepted(All candidates are equally popular)\")"
   ]
  },
  {
   "cell_type": "code",
   "execution_count": 7,
   "metadata": {},
   "outputs": [
    {
     "name": "stdout",
     "output_type": "stream",
     "text": [
      "Null Hypothesis is rejected(There is a significant relationship between age and photograph preference. )\n"
     ]
    }
   ],
   "source": [
    "#Problem statement 20\n",
    "\n",
    "# Null Hypothesis H0 : There is no significant relationship between age and photograph preference.\n",
    "# Alternative Hypothesis H1 : There is a significant relationship between age and photograph preference.\n",
    "\n",
    "\n",
    "alpha=0.05\n",
    "inp=np.array([[18,22,20],[2,28,40],[20,10,40]])\n",
    "chi2,p,dof,expected=st.chi2_contingency(inp)\n",
    "if p<alpha:\n",
    "    print(\"Null Hypothesis is rejected(There is a significant relationship between age and photograph preference. )\")\n",
    "else:\n",
    "    print(\"Null Hypothesis is accepted(There is no significant relationship between age and photograph preference.)\")"
   ]
  },
  {
   "cell_type": "code",
   "execution_count": 8,
   "metadata": {},
   "outputs": [
    {
     "name": "stdout",
     "output_type": "stream",
     "text": [
      "Null Hypothesis is rejected(There is a significant difference between the support and no support conditions in the frequency with which individuals are likely to conform.)\n"
     ]
    }
   ],
   "source": [
    "#Problem statement 21\n",
    "\n",
    "# Null Hypothesis H0 : There is no significant difference between the \"support\" and \"no support\" conditions in the frequency\n",
    "# with which individuals are likely to conform.\n",
    "\n",
    "# Alternative Hypothesis H1 : There is a significant difference between the \"support\" and \"no support\" conditions in the \n",
    "# frequency with which individuals are likely to conform.\n",
    "\n",
    "\n",
    "alpha=0.05\n",
    "inp=np.array([[18,40],[32,10]])\n",
    "chi2,p,dof,expected=st.chi2_contingency(inp)\n",
    "if p<alpha:\n",
    "    print(\"Null Hypothesis is rejected(There is a significant difference between the support and no support conditions in the frequency with which individuals are likely to conform.)\")\n",
    "else:\n",
    "    print(\"Null Hypothesis is accepted(There is no significant difference between the support and no support conditions in the frequency with which individuals are likely to conform.)\")"
   ]
  },
  {
   "cell_type": "code",
   "execution_count": 9,
   "metadata": {},
   "outputs": [
    {
     "data": {
      "text/html": [
       "<div>\n",
       "<style scoped>\n",
       "    .dataframe tbody tr th:only-of-type {\n",
       "        vertical-align: middle;\n",
       "    }\n",
       "\n",
       "    .dataframe tbody tr th {\n",
       "        vertical-align: top;\n",
       "    }\n",
       "\n",
       "    .dataframe thead th {\n",
       "        text-align: right;\n",
       "    }\n",
       "</style>\n",
       "<table border=\"1\" class=\"dataframe\">\n",
       "  <thead>\n",
       "    <tr style=\"text-align: right;\">\n",
       "      <th></th>\n",
       "      <th>Short</th>\n",
       "      <th>Tall</th>\n",
       "    </tr>\n",
       "  </thead>\n",
       "  <tbody>\n",
       "    <tr>\n",
       "      <th>Leader</th>\n",
       "      <td>12</td>\n",
       "      <td>32</td>\n",
       "    </tr>\n",
       "    <tr>\n",
       "      <th>Follower</th>\n",
       "      <td>22</td>\n",
       "      <td>14</td>\n",
       "    </tr>\n",
       "    <tr>\n",
       "      <th>Unclassifiable</th>\n",
       "      <td>9</td>\n",
       "      <td>6</td>\n",
       "    </tr>\n",
       "  </tbody>\n",
       "</table>\n",
       "</div>"
      ],
      "text/plain": [
       "                Short  Tall\n",
       "Leader             12    32\n",
       "Follower           22    14\n",
       "Unclassifiable      9     6"
      ]
     },
     "execution_count": 9,
     "metadata": {},
     "output_type": "execute_result"
    }
   ],
   "source": [
    "#Problem statement 22\n",
    "\n",
    "df=pd.DataFrame([[12,32],[22,14],[9,6]],columns=['Short','Tall'],index=['Leader','Follower','Unclassifiable'])\n",
    "df"
   ]
  },
  {
   "cell_type": "code",
   "execution_count": 10,
   "metadata": {},
   "outputs": [
    {
     "name": "stdout",
     "output_type": "stream",
     "text": [
      "Null Hypothesis is rejected(There is a relationship between height and leadership qualities.)\n"
     ]
    }
   ],
   "source": [
    "# Null Hypothesis H0 : There is no relationship between height and leadership qualities.\n",
    "# Alternative Hypothesis H1 : There is a relationship between height and leadership qualities.\n",
    "\n",
    "alpha=0.01\n",
    "inp=np.array([[12,32],[22,14],[9,6]])\n",
    "chi2,p,dof,expected=st.chi2_contingency(inp)\n",
    "if p<alpha:\n",
    "    print(\"Null Hypothesis is rejected(There is a relationship between height and leadership qualities.)\")\n",
    "else:\n",
    "    print(\"Null Hypothesis is accepted(There is no relationship between height and leadership qualities.)\")"
   ]
  },
  {
   "cell_type": "code",
   "execution_count": 11,
   "metadata": {},
   "outputs": [
    {
     "data": {
      "text/html": [
       "<div>\n",
       "<style scoped>\n",
       "    .dataframe tbody tr th:only-of-type {\n",
       "        vertical-align: middle;\n",
       "    }\n",
       "\n",
       "    .dataframe tbody tr th {\n",
       "        vertical-align: top;\n",
       "    }\n",
       "\n",
       "    .dataframe thead th {\n",
       "        text-align: right;\n",
       "    }\n",
       "</style>\n",
       "<table border=\"1\" class=\"dataframe\">\n",
       "  <thead>\n",
       "    <tr style=\"text-align: right;\">\n",
       "      <th></th>\n",
       "      <th>Married</th>\n",
       "      <th>Widowed,Divorced or seperated</th>\n",
       "      <th>Never Married</th>\n",
       "    </tr>\n",
       "  </thead>\n",
       "  <tbody>\n",
       "    <tr>\n",
       "      <th>Employed</th>\n",
       "      <td>679</td>\n",
       "      <td>103</td>\n",
       "      <td>114</td>\n",
       "    </tr>\n",
       "    <tr>\n",
       "      <th>Unemployed</th>\n",
       "      <td>63</td>\n",
       "      <td>10</td>\n",
       "      <td>20</td>\n",
       "    </tr>\n",
       "    <tr>\n",
       "      <th>Not in labor force</th>\n",
       "      <td>42</td>\n",
       "      <td>18</td>\n",
       "      <td>25</td>\n",
       "    </tr>\n",
       "  </tbody>\n",
       "</table>\n",
       "</div>"
      ],
      "text/plain": [
       "                    Married  Widowed,Divorced or seperated  Never Married\n",
       "Employed                679                            103            114\n",
       "Unemployed               63                             10             20\n",
       "Not in labor force       42                             18             25"
      ]
     },
     "execution_count": 11,
     "metadata": {},
     "output_type": "execute_result"
    }
   ],
   "source": [
    "#Problem statement 23\n",
    "df=pd.DataFrame([[679,103,114],[63,10,20],[42,18,25]],columns=['Married','Widowed,Divorced or seperated','Never Married'],index=['Employed','Unemployed','Not in labor force'])\n",
    "df\n"
   ]
  },
  {
   "cell_type": "code",
   "execution_count": 12,
   "metadata": {},
   "outputs": [
    {
     "name": "stdout",
     "output_type": "stream",
     "text": [
      "Null Hypothesis is rejected(Marital status and employement status are dependent.)\n"
     ]
    }
   ],
   "source": [
    "# Null Hypothesis H0: Marital status and employement status are independent.\n",
    "# Alternative Hypothesis H1 : Marital status and employement status are dependent.\n",
    "\n",
    "alpha=0.05\n",
    "inp=np.array([[679,103,114],[63,10,20],[42,18,25]])\n",
    "chi2,p,dof,expected=st.chi2_contingency(inp)\n",
    "if p<alpha:\n",
    "    print(\"Null Hypothesis is rejected(Marital status and employement status are dependent.)\")\n",
    "else:\n",
    "    print(\"Null Hypothesis is accepted(Marital status and employement status are independent.)\")"
   ]
  },
  {
   "cell_type": "code",
   "execution_count": null,
   "metadata": {},
   "outputs": [],
   "source": []
  }
 ],
 "metadata": {
  "kernelspec": {
   "display_name": "Python 3",
   "language": "python",
   "name": "python3"
  },
  "language_info": {
   "codemirror_mode": {
    "name": "ipython",
    "version": 3
   },
   "file_extension": ".py",
   "mimetype": "text/x-python",
   "name": "python",
   "nbconvert_exporter": "python",
   "pygments_lexer": "ipython3",
   "version": "3.8.3"
  }
 },
 "nbformat": 4,
 "nbformat_minor": 4
}
