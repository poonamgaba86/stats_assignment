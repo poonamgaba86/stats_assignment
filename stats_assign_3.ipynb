{
 "cells": [
  {
   "cell_type": "code",
   "execution_count": 1,
   "metadata": {},
   "outputs": [],
   "source": [
    "import scipy.stats as st\n",
    "import numpy as np"
   ]
  },
  {
   "cell_type": "code",
   "execution_count": 2,
   "metadata": {},
   "outputs": [],
   "source": [
    "def z_stat(samp_mean,pop_mean,se):\n",
    "    return (samp_mean-pop_mean)/se\n",
    "def t_stat(samp_mean,pop_mean,se):\n",
    "    return (samp_mean-pop_mean)/se\n",
    "def sample_error(std,n):\n",
    "    return std/(np.sqrt(n))\n",
    "def z_test_pop_proportions(p1,p2,se):\n",
    "    return ((p1-p2)/se)\n",
    "def sample_error_pop_proportions(p1,p2,n1,n2):\n",
    "    return np.sqrt(((p1*(1-p1))/n1)+((p2*(1-p2))/n2))"
   ]
  },
  {
   "cell_type": "code",
   "execution_count": 3,
   "metadata": {},
   "outputs": [
    {
     "name": "stdout",
     "output_type": "stream",
     "text": [
      "Null Hypothesis is rejected(The raw corn starch had an effect)\n"
     ]
    }
   ],
   "source": [
    "# Problem Statement 1:\n",
    "# Null Hypothesis H0 : mean=100(The raw cornstarch has no effect)\n",
    "# Alternative Hypothesis H1 : mean!=100(The raw corn starch had an effect)\n",
    "# (Two-tailed test)\n",
    "\n",
    "\n",
    "#Since the sample size >30,we use z test\n",
    "\n",
    "alpha=0.05\n",
    "z=z_stat(samp_mean=108,pop_mean=100,se=sample_error(std=15,n=36))\n",
    "p=2*(1-st.norm.cdf(np.absolute(z)))\n",
    "if p<alpha:\n",
    "    print(\"Null Hypothesis is rejected(The raw corn starch had an effect)\")\n",
    "else:\n",
    "    print(\"Null Hypothesis is accepted(The raw cornstarch has no effect)\")"
   ]
  },
  {
   "cell_type": "code",
   "execution_count": null,
   "metadata": {},
   "outputs": [],
   "source": []
  },
  {
   "cell_type": "code",
   "execution_count": 23,
   "metadata": {},
   "outputs": [
    {
     "name": "stdout",
     "output_type": "stream",
     "text": [
      "probability that the survey will show a greater percentage of Republican voters in the second state than       in the first state is 0.23946399182220013\n"
     ]
    }
   ],
   "source": [
    "# Problem statement 2\n",
    "def sample_error_pop_proportions(p1,p2,n1,n2):\n",
    "    se=np.sqrt(((p1*(1-p1))/n1)+((p2*(1-p2))/n2))\n",
    "    return se\n",
    "alpha=0.05\n",
    "p1=52/100\n",
    "p2=47/100\n",
    "Exp= p1-p2\n",
    "se=sample_error_pop_proportions(p1=p1,p2=p2,n1=100,n2=100)\n",
    "# Find the probability. This problem requires us to find the probability that p1 is less than p2. \n",
    "# This is equivalent to finding the probability that p1 - p2 is less than zero.\n",
    "# To find this probability, we need to transform the random variable (p1 - p2) into a z-score.\n",
    "z=(0-Exp)/se\n",
    "# print(z)\n",
    "p=st.norm.cdf(z)\n",
    "print(\"probability that the survey will show a greater percentage of Republican voters in the second state than \\\n",
    "      in the first state is\" ,p)\n"
   ]
  },
  {
   "cell_type": "code",
   "execution_count": 10,
   "metadata": {},
   "outputs": [
    {
     "name": "stdout",
     "output_type": "stream",
     "text": [
      "0.35406698564593303\n",
      "This means that  score was .354 std devs above the mean.\n",
      "percentage of test takers who scored below me  0.6383556584353189\n"
     ]
    }
   ],
   "source": [
    "# problem statement 3\n",
    "import scipy.stats as st\n",
    "import numpy as np\n",
    "x=1100\n",
    "mean= 1026\n",
    "std_dev = 209\n",
    "z= (x-mean)/std_dev\n",
    "print(z)\n",
    "print(\"This means that  score was .354 std devs above the mean.\")\n",
    "p=st.norm.cdf(np.absolute(z))\n",
    "print(\"percentage of test takers who scored below me \",p)"
   ]
  },
  {
   "cell_type": "code",
   "execution_count": null,
   "metadata": {},
   "outputs": [],
   "source": []
  }
 ],
 "metadata": {
  "kernelspec": {
   "display_name": "Python 3",
   "language": "python",
   "name": "python3"
  },
  "language_info": {
   "codemirror_mode": {
    "name": "ipython",
    "version": 3
   },
   "file_extension": ".py",
   "mimetype": "text/x-python",
   "name": "python",
   "nbconvert_exporter": "python",
   "pygments_lexer": "ipython3",
   "version": "3.8.3"
  }
 },
 "nbformat": 4,
 "nbformat_minor": 4
}
